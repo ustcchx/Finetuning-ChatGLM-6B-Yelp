{
 "cells": [
  {
   "cell_type": "code",
   "execution_count": 7,
   "id": "9f5c89e6-11df-4ddd-9ced-d360f4e4499f",
   "metadata": {},
   "outputs": [],
   "source": [
    "import pyarrow.parquet as pq\n",
    "import json\n",
    "parquet_file_train = pq.ParquetFile('train-00000-of-00001.parquet')\n",
    "data_train = parquet_file_train.read().to_pandas()\n",
    "parquet_file_test = pq.ParquetFile('test-00000-of-00001.parquet')\n",
    "data_test = parquet_file_test.read().to_pandas()"
   ]
  },
  {
   "cell_type": "code",
   "execution_count": 4,
   "id": "7c503480-fd3d-4730-8743-d03e0bf3707e",
   "metadata": {},
   "outputs": [],
   "source": [
    "data_train_list = []\n",
    "data_test_list = []\n",
    "prompt = \"Instruction: The following is a user's review of a merchant. Please judge and output the corresponding five-star rating for this review. \\n\"\n",
    "for i in range(len(data_train)):\n",
    "    temp_dict = {}\n",
    "    temp_dict[\"instruction\"] = f\"{prompt}Review: {data_train.iloc[i]['text']}\\nOutput: \"\n",
    "    temp_dict[\"input\"] =\"\"\n",
    "    temp_dict[\"output\"] = f\"{data_train.iloc[i]['label']}\"\n",
    "    temp_dict[\"system\"] = \"\"\n",
    "    temp_dict[\"history\"] = \"\"\n",
    "    data_train_list.append(temp_dict)\n",
    "for i in range(len(data_test)):\n",
    "    temp_dict = {}\n",
    "    temp_dict[\"instruction\"] = f\"{prompt}Review: {data_test.iloc[i]['text']}\\nOutput: \"\n",
    "    temp_dict[\"input\"] =\"\"\n",
    "    temp_dict[\"output\"] = f\"{data_test.iloc[i]['label']}\"\n",
    "    temp_dict[\"system\"] = \"\"\n",
    "    temp_dict[\"history\"] = \"\"\n",
    "    data_test_list.append(temp_dict)"
   ]
  },
  {
   "cell_type": "code",
   "execution_count": 8,
   "id": "e2c492a0-bb71-4caf-a50f-4a5042b3bee6",
   "metadata": {},
   "outputs": [],
   "source": [
    "json_data = json.dumps(data_train_list, indent=4, separators=(',', ': '), ensure_ascii=False)\n",
    "with open(\"yelp_review_full_train.json\", \"w\", encoding = \"utf-8\") as file:\n",
    "    file.write(json_data)\n",
    "json_data = json.dumps(data_test_list, indent=4, separators=(',', ': '), ensure_ascii=False)\n",
    "with open(\"yelp_review_full_test.json\", \"w\", encoding = \"utf-8\") as file:\n",
    "    file.write(json_data)"
   ]
  },
  {
   "cell_type": "code",
   "execution_count": 9,
   "id": "10186efe-8701-42ed-8873-4611a93b2d47",
   "metadata": {},
   "outputs": [
    {
     "data": {
      "text/plain": [
       "650000"
      ]
     },
     "execution_count": 9,
     "metadata": {},
     "output_type": "execute_result"
    }
   ],
   "source": [
    "len(data_train_list)"
   ]
  }
 ],
 "metadata": {
  "kernelspec": {
   "display_name": "Python 3 (ipykernel)",
   "language": "python",
   "name": "python3"
  },
  "language_info": {
   "codemirror_mode": {
    "name": "ipython",
    "version": 3
   },
   "file_extension": ".py",
   "mimetype": "text/x-python",
   "name": "python",
   "nbconvert_exporter": "python",
   "pygments_lexer": "ipython3",
   "version": "3.11.7"
  }
 },
 "nbformat": 4,
 "nbformat_minor": 5
}
