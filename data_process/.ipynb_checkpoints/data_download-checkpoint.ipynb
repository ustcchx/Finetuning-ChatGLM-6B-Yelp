{
 "cells": [
  {
   "cell_type": "code",
   "execution_count": null,
   "id": "706f4d26-d2a1-4b16-8fd3-592c97afb076",
   "metadata": {},
   "outputs": [],
   "source": [
    "from datasets import load_dataset\n",
    "dataset = load_dataset(\"yelp_review_full\")"
   ]
  }
 ],
 "metadata": {
  "kernelspec": {
   "display_name": "test_for_deeplearning",
   "language": "python",
   "name": "test_for_deeplearning"
  },
  "language_info": {
   "codemirror_mode": {
    "name": "ipython",
    "version": 3
   },
   "file_extension": ".py",
   "mimetype": "text/x-python",
   "name": "python",
   "nbconvert_exporter": "python",
   "pygments_lexer": "ipython3",
   "version": "3.11.8"
  }
 },
 "nbformat": 4,
 "nbformat_minor": 5
}
